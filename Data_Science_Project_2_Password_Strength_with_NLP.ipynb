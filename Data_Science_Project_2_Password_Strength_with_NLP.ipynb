{
  "nbformat": 4,
  "nbformat_minor": 0,
  "metadata": {
    "colab": {
      "provenance": [],
      "authorship_tag": "ABX9TyPXyFHd6pY0LkuEOF6FPYG3",
      "include_colab_link": true
    },
    "kernelspec": {
      "name": "python3",
      "display_name": "Python 3"
    },
    "language_info": {
      "name": "python"
    }
  },
  "cells": [
    {
      "cell_type": "markdown",
      "metadata": {
        "id": "view-in-github",
        "colab_type": "text"
      },
      "source": [
        "<a href=\"https://colab.research.google.com/github/anilaksu/AI-and-Data-Science-Codes/blob/Natural-Language-Processing/Data_Science_Project_2_Password_Strength_with_NLP.ipynb\" target=\"_parent\"><img src=\"https://colab.research.google.com/assets/colab-badge.svg\" alt=\"Open In Colab\"/></a>"
      ]
    },
    {
      "cell_type": "markdown",
      "source": [
        "# **Predict Password Strength using Natural Language Processing**\n",
        "\n",
        "\n",
        "Anil Aksu\n",
        "\n",
        "Personal e-mail: aaa293@cornell.edu\n",
        "\n",
        "In a hutshell, we need to classify password data into three categories:\n",
        "\n",
        "\n",
        "1.   0: Weak\n",
        "2.   1: Medium\n",
        "3.   2: Strong\n",
        "\n",
        "\n",
        "\n",
        "## Notebook Organization:\n",
        "- **Business Understanding**\n",
        "- **Data Collection**\n",
        "- **Data Cleaning**\n",
        "- **Data Analysis**\n",
        "- **Feature Engineering**\n",
        "- **Model Building**\n",
        "- **Deployment**\n",
        "\n",
        "Full solution to the project can be found in the [link](https://drive.google.com/drive/folders/1ET_ggkzxtvQ287RyzHB5mcGxNyEbQe48)"
      ],
      "metadata": {
        "id": "8MQC5fSdio82"
      }
    },
    {
      "cell_type": "code",
      "execution_count": 1,
      "metadata": {
        "colab": {
          "base_uri": "https://localhost:8080/"
        },
        "id": "8TH2BT_liVuO",
        "outputId": "892f120e-1389-4df9-ef69-9d79e91ba7d9"
      },
      "outputs": [
        {
          "output_type": "stream",
          "name": "stdout",
          "text": [
            "Mounted at /content/drive\n",
            "/content/drive/MyDrive/ColabNotebooks/Data Science Projects/Password Strength NLP Project\n"
          ]
        }
      ],
      "source": [
        "# Here we set our working directory in our google drive to access datasets externally\n",
        "from google.colab import drive\n",
        "drive.mount('/content/drive')\n",
        "%cd /content/drive/MyDrive/ColabNotebooks/Data Science Projects/Password Strength NLP Project"
      ]
    },
    {
      "cell_type": "markdown",
      "source": [
        "#1. Data Collection"
      ],
      "metadata": {
        "id": "0HHAXFIVkoT8"
      }
    },
    {
      "cell_type": "markdown",
      "source": [
        "##1.1 Reading data from SQL Database"
      ],
      "metadata": {
        "id": "VNMIn6F8jrxk"
      }
    },
    {
      "cell_type": "code",
      "source": [],
      "metadata": {
        "id": "X2aJ6DSOjqvb"
      },
      "execution_count": null,
      "outputs": []
    }
  ]
}